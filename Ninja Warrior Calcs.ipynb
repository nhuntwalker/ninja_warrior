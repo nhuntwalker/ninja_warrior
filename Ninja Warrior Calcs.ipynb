{
 "cells": [
  {
   "cell_type": "markdown",
   "metadata": {},
   "source": [
    "Source: https://en.wikipedia.org/wiki/American_Ninja_Warrior_(season_9)"
   ]
  },
  {
   "cell_type": "code",
   "execution_count": 17,
   "metadata": {
    "collapsed": true
   },
   "outputs": [],
   "source": [
    "qual_purse = [20, 40, 60, 80, 100, 200]\n",
    "finals_purse = qual_purse + [250, 300, 350, 800]"
   ]
  },
  {
   "cell_type": "code",
   "execution_count": 18,
   "metadata": {},
   "outputs": [],
   "source": [
    "qualifiers = {\n",
    "    'Los Angeles': [6 for i in range(22)] + [5 for i in range(3)] + [4 for i in range(5)] + [4, 4, 4],\n",
    "    'San Antonio': [6 for i in range(16)] + [4 for i in range(14)] + [3, 2, 2, 1],\n",
    "    'Daytona': [6 for i in range(18)] + [4 for i in range(12)] + [4, 4, 2, 2],\n",
    "    'Kansas City': [6 for i in range(10)] + [5, 5] + [4 for i in range(13)] + [3 for i in range(5)] + [3, 3, 3, 3, 3],\n",
    "    'Cleveland': [6 for i in range(14)] + [5] + [4 for i in range(15)] + [3, 3, 3],\n",
    "    'Denver': [6 for i in range(8)] + [4 for i in range(22)] + [3, 1]\n",
    "}"
   ]
  },
  {
   "cell_type": "code",
   "execution_count": 22,
   "metadata": {
    "collapsed": true
   },
   "outputs": [],
   "source": [
    "def purse_total(purse, finishers):\n",
    "    return sum([purse[idx - 1] for idx in finishers])"
   ]
  },
  {
   "cell_type": "code",
   "execution_count": 23,
   "metadata": {},
   "outputs": [
    {
     "name": "stdout",
     "output_type": "stream",
     "text": [
      "-Los Angeles: $5340\n",
      "-San Antonio: $4480\n",
      "-Daytona: $4800\n",
      "-Kanasas City: $3840\n",
      "-Cleveland: $4280\n",
      "-Denver: $3440\n",
      "-Total: $26180\n"
     ]
    }
   ],
   "source": [
    "running_total = 0\n",
    "for city in qualifiers:\n",
    "    total = purse_total(qual_purse, qualifiers[city])\n",
    "    running_total += total\n",
    "    print(f'-{city}: ${total}')\n",
    "print(f'-Total: ${running_total}')"
   ]
  },
  {
   "cell_type": "code",
   "execution_count": 20,
   "metadata": {},
   "outputs": [],
   "source": [
    "finals = {\n",
    "    'Los Angeles': [10, 10, 10, 10, 9, 9, 8, 8, 8, 8, 7, 7, 7, 7, 7] + [7, 5],\n",
    "    'San Antonio': [10, 9, 9, 9, 8, 8] + [7 for i in range(9)] + [7, 5],\n",
    "    'Daytona': [10, 9, 9, 9, 8, 8, 8, 8] + [7 for i in range(7)] + [4],\n",
    "    'Kansas City': [9, 8] + [7 for i in range(7)] + [6, 6, 6, 6, 6, 4] + [4, 3],\n",
    "    'Cleveland': [10, 10] + [7 for i in range(13)] + [7],\n",
    "    'Denver': [10] + [8, 8] + [7 for i in range(12)] + [7, 4]\n",
    "}"
   ]
  },
  {
   "cell_type": "code",
   "execution_count": 24,
   "metadata": {},
   "outputs": [
    {
     "name": "stdout",
     "output_type": "stream",
     "text": [
      "-Los Angeles: $6700\n",
      "-San Antonio: $5050\n",
      "-Daytona: $4880\n",
      "-Kansas City: $3620\n",
      "-Cleveland: $5100\n",
      "-Denver: $4730\n",
      "-Total: $30080\n"
     ]
    }
   ],
   "source": [
    "running_total = 0\n",
    "for city in finals:\n",
    "    total = purse_total(finals_purse, finals[city])\n",
    "    running_total += total\n",
    "    print(f'-{city}: ${total}')\n",
    "print(f'-Total: ${running_total}')"
   ]
  },
  {
   "cell_type": "code",
   "execution_count": 25,
   "metadata": {},
   "outputs": [
    {
     "data": {
      "text/plain": [
       "100260"
      ]
     },
     "execution_count": 25,
     "metadata": {},
     "output_type": "execute_result"
    }
   ],
   "source": [
    "26180 + 30080 + 40000 + 4000"
   ]
  },
  {
   "cell_type": "code",
   "execution_count": null,
   "metadata": {
    "collapsed": true
   },
   "outputs": [],
   "source": []
  }
 ],
 "metadata": {
  "kernelspec": {
   "display_name": "Python 3",
   "language": "python",
   "name": "python3"
  },
  "language_info": {
   "codemirror_mode": {
    "name": "ipython",
    "version": 3
   },
   "file_extension": ".py",
   "mimetype": "text/x-python",
   "name": "python",
   "nbconvert_exporter": "python",
   "pygments_lexer": "ipython3",
   "version": "3.6.1"
  }
 },
 "nbformat": 4,
 "nbformat_minor": 2
}
