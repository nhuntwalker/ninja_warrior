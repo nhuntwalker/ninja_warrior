{
 "cells": [
  {
   "cell_type": "markdown",
   "metadata": {},
   "source": [
    "# Paying Ninja Warriors\n",
    "\n",
    "Was thinking about how to compensate the Ninja Warrior athletes and came up with this pay scale. This is based on the current results from ANW Season 9, sourced here:  https://en.wikipedia.org/wiki/American_Ninja_Warrior_(season_9)\n",
    "\n",
    "I wasn't quite sure where to get more complete data for the competitors, so currently the pay scale is based on only the top 30 competitors + women from the qualifiers, top 15 competitors + women in the city finals, and finishers in the Las Vegas National Finals"
   ]
  },
  {
   "cell_type": "markdown",
   "metadata": {},
   "source": [
    "Here's a hypothetical pay structure, paid out by obstacle completed:\n",
    "\n",
    "| 1   | 2   | 3   | 4   | 5   | 6   | 7   | 8   | 9   | 10   | \n",
    "| --- | --- | --- | --- | --- | --- | --- | --- | --- | ---  |\n",
    "| \\$20 | \\$40 | \\$60 | \\$80 | \\$100 | \\$200 | \\$250 | \\$300 | \\$350 | $800 |\n",
    "\n",
    "Then the Las Vegas Nationals:\n",
    "\n",
    "- Stage 1: \\$1,000\n",
    "- Stage 2: \\$2,000\n",
    "- Stage 3: \\$3,000\n",
    "- Stage 4: \\$4,000"
   ]
  },
  {
   "cell_type": "code",
   "execution_count": 4,
   "metadata": {
    "collapsed": true
   },
   "outputs": [],
   "source": [
    "qual_purse = [20, 40, 60, 80, 100, 200]\n",
    "finals_purse = qual_purse + [250, 300, 350, 800]"
   ]
  },
  {
   "cell_type": "code",
   "execution_count": 5,
   "metadata": {
    "collapsed": true
   },
   "outputs": [],
   "source": [
    "def purse_total(purse, finishers):\n",
    "    \"\"\"Total payout for a given city's competitors.\"\"\"\n",
    "    return sum([purse[idx - 1] for idx in finishers])"
   ]
  },
  {
   "cell_type": "code",
   "execution_count": 6,
   "metadata": {
    "collapsed": true
   },
   "outputs": [],
   "source": [
    "def calculate_totals(results, purse):\n",
    "    \"\"\"Calculate the per-city and grand total for a phase of competition.\"\"\"\n",
    "    running_total = 0\n",
    "    for city in results:\n",
    "        total = purse_total(purse, results[city])\n",
    "        running_total += total\n",
    "        print(f'-{city}: ${total}')\n",
    "    print(f'-Total: ${running_total}')"
   ]
  },
  {
   "cell_type": "code",
   "execution_count": 7,
   "metadata": {
    "collapsed": true
   },
   "outputs": [],
   "source": [
    "qualifiers = {\n",
    "    'Los Angeles': [6 for i in range(22)] + [5 for i in range(3)] + [4 for i in range(5)] + [4, 4, 4],\n",
    "    'San Antonio': [6 for i in range(16)] + [4 for i in range(14)] + [3, 2, 2, 1],\n",
    "    'Daytona': [6 for i in range(18)] + [4 for i in range(12)] + [4, 4, 2, 2],\n",
    "    'Kansas City': [6 for i in range(10)] + [5, 5] + [4 for i in range(13)] + [3 for i in range(5)] + [3, 3, 3, 3, 3],\n",
    "    'Cleveland': [6 for i in range(14)] + [5] + [4 for i in range(15)] + [3, 3, 3],\n",
    "    'Denver': [6 for i in range(8)] + [4 for i in range(22)] + [3, 1]\n",
    "}"
   ]
  },
  {
   "cell_type": "code",
   "execution_count": 8,
   "metadata": {},
   "outputs": [
    {
     "name": "stdout",
     "output_type": "stream",
     "text": [
      "-Los Angeles: $5340\n",
      "-San Antonio: $4480\n",
      "-Daytona: $4800\n",
      "-Kansas City: $3840\n",
      "-Cleveland: $4280\n",
      "-Denver: $3440\n",
      "-Total: $26180\n"
     ]
    }
   ],
   "source": [
    "calculate_totals(qualifiers, qual_purse)"
   ]
  },
  {
   "cell_type": "code",
   "execution_count": 9,
   "metadata": {
    "collapsed": true
   },
   "outputs": [],
   "source": [
    "finals = {\n",
    "    'Los Angeles': [10, 10, 10, 10, 9, 9, 8, 8, 8, 8, 7, 7, 7, 7, 7] + [7, 5],\n",
    "    'San Antonio': [10, 9, 9, 9, 8, 8] + [7 for i in range(9)] + [7, 5],\n",
    "    'Daytona': [10, 9, 9, 9, 8, 8, 8, 8] + [7 for i in range(7)] + [4],\n",
    "    'Kansas City': [9, 8] + [7 for i in range(7)] + [6, 6, 6, 6, 6, 4] + [4, 3],\n",
    "    'Cleveland': [10, 10] + [7 for i in range(13)] + [7],\n",
    "    'Denver': [10] + [8, 8] + [7 for i in range(12)] + [7, 4]\n",
    "}"
   ]
  },
  {
   "cell_type": "code",
   "execution_count": 10,
   "metadata": {},
   "outputs": [
    {
     "name": "stdout",
     "output_type": "stream",
     "text": [
      "-Los Angeles: $6700\n",
      "-San Antonio: $5050\n",
      "-Daytona: $4880\n",
      "-Kansas City: $3620\n",
      "-Cleveland: $5100\n",
      "-Denver: $4730\n",
      "-Total: $30080\n"
     ]
    }
   ],
   "source": [
    "calculate_totals(finals, finals_purse)"
   ]
  },
  {
   "cell_type": "markdown",
   "metadata": {},
   "source": [
    "As of Monday Sept 4, there were 20 finishers of Stage 1 of the Las Vegas finals, so that's 20 ppl x $1,000 per person = $20,000.\n",
    "\n",
    "Projecting that there will be about as many finishers next week, that's roughly $40,000 paid out for Stage 1.\n",
    "\n",
    "Last year, only 2 competitors finished Stage 2. 2ppl x $2,000 = $4,000.\n",
    "\n",
    "Last year, no one finished Stage 3 (and by extension no one finished Stage 4)"
   ]
  },
  {
   "cell_type": "code",
   "execution_count": 25,
   "metadata": {
    "scrolled": true
   },
   "outputs": [
    {
     "data": {
      "text/plain": [
       "100260"
      ]
     },
     "execution_count": 25,
     "metadata": {},
     "output_type": "execute_result"
    }
   ],
   "source": [
    "26180 + 30080 + 40000 + 4000"
   ]
  },
  {
   "cell_type": "markdown",
   "metadata": {
    "collapsed": true
   },
   "source": [
    "That's only **\\$100,260**!\n",
    "\n",
    "Now, according to https://en.wikipedia.org/wiki/American_Ninja_Warrior producers select 100 competitors for each qualifying round, plus 20-30 walk-ons. So the initial crop of, say, 130 ppl for each city gets culled down to 30 + 5 ppl. I wish I had the stats on who makes it to what obstacle, but let's be ambitious and say everyone makes it past the first obstacle.\n",
    "\n",
    "Since we lose roughly 100 competitors per city for 6 cities, that's 600 ppl that make it past the first obstacle. That's another maybe $1,200 paid out. Still not much, barely an appreciable increase in the above total"
   ]
  },
  {
   "cell_type": "code",
   "execution_count": null,
   "metadata": {
    "collapsed": true
   },
   "outputs": [],
   "source": []
  }
 ],
 "metadata": {
  "kernelspec": {
   "display_name": "Python 3",
   "language": "python",
   "name": "python3"
  },
  "language_info": {
   "codemirror_mode": {
    "name": "ipython",
    "version": 3
   },
   "file_extension": ".py",
   "mimetype": "text/x-python",
   "name": "python",
   "nbconvert_exporter": "python",
   "pygments_lexer": "ipython3",
   "version": "3.6.1"
  }
 },
 "nbformat": 4,
 "nbformat_minor": 2
}
